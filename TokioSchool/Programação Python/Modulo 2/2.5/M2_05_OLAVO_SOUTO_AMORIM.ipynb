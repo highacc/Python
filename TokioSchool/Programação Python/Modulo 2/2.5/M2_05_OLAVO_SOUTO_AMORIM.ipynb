{
 "cells": [
  {
   "cell_type": "markdown",
   "metadata": {},
   "source": [
    "# Exercícios Módulo 2. Controlo de fluxo (Soluções)\n",
    "\n",
    "Considerações a ter em conta:\n",
    "\n",
    "* Guardar este documento com o seguinte formato para entrega: __M2_05_nome_apelido1_apelido2__\n",
    "* Fazer os exercícios com as ferramentas vistas nas sessões. \n",
    "* Comentar o código\n",
    "* Utilizar nomes de variáveis apropriados, se vai guardar uma nota, chamar a essa variável nota, não n ou x"
   ]
  },
  {
   "cell_type": "markdown",
   "metadata": {},
   "source": [
    "## Exercícios de controlo de fluxo"
   ]
  },
  {
   "cell_type": "markdown",
   "metadata": {},
   "source": [
    "**1) Faça um programa que solicite ao utilizador três números individualmente e realize as seguintes verificações:** \n",
    "\n",
    "* Se os números estão por ordem ascendente ou decrescente \n",
    "* Se há um erro devido a que o primeiro número introduzido é 0"
   ]
  },
  {
   "cell_type": "code",
   "execution_count": 5,
   "metadata": {},
   "outputs": [
    {
     "name": "stdin",
     "output_type": "stream",
     "text": [
      "Qual o primeiro numero?  0\n",
      "Qual o segundo numero?  1\n",
      "Qual o terceiro numero?  2\n"
     ]
    },
    {
     "name": "stdout",
     "output_type": "stream",
     "text": [
      "[0, 1, 2]\n",
      "Erro, o primeiro numero introduzido é 0\n"
     ]
    }
   ],
   "source": [
    "# Completar o exercício aqui\n",
    "num1 = int(input(\"Qual o primeiro numero? \"))\n",
    "num2 = int(input(\"Qual o segundo numero? \"))\n",
    "num3 = int(input(\"Qual o terceiro numero? \"))\n",
    "\n",
    "lista = [num1, num2, num3]\n",
    "print(lista)\n",
    "i = 0\n",
    "#Se há um erro devido a que o primeiro número introduzido é 0\n",
    "if lista[i] == 0:\n",
    "    print(\"Erro, o primeiro numero introduzido é 0\")\n",
    "else:\n",
    "    #Se os números estão por ordem ascendente ou decrescente\n",
    "    if lista[i] < lista[i+1]:\n",
    "        print(\"Os numeros estão em ordem ascendente.\")\n",
    "    else:\n",
    "        print(\"Os numeros estão em ordem decrescente.\")"
   ]
  },
  {
   "cell_type": "markdown",
   "metadata": {},
   "source": [
    "**2) Faça um programa que realize o somatório dos primeiros N números e apresente o valor da soma, onde N é fornecido pelo utilizador**\n",
    "\n",
    "* Exemplo de número limite introduzido pelo utilizador: 5\n",
    "* somatório = 0 + 1 + 2 + 3 + 4 (somamos os 5 primeiros números)"
   ]
  },
  {
   "cell_type": "code",
   "execution_count": 2,
   "metadata": {},
   "outputs": [],
   "source": [
    "# Completar o exercício aqui"
   ]
  },
  {
   "cell_type": "markdown",
   "metadata": {},
   "source": [
    "**3) Faça um programa que solicite ao utilizador 2 números e apresente as seguintes opções:** \n",
    "\n",
    "* Mostrar a soma dos dois números\n",
    "* Mostrar o resto dos dois números (o primeiro menos o segundo) \n",
    "* Mostrar a multiplicação dos dois números\n",
    "* Em caso de não introduzir uma opção válida, o programa irá informar que não é correta\n"
   ]
  },
  {
   "cell_type": "code",
   "execution_count": 4,
   "metadata": {},
   "outputs": [],
   "source": [
    "# Completar o exercício aqui"
   ]
  },
  {
   "cell_type": "markdown",
   "metadata": {},
   "source": [
    "**4)  Faça um programa que solicite ao utilizador que introduza um número e o apresente.**\n",
    "* Repita o processo enquanto o utilizador continuar a introduzir números ímpares. \n",
    "* Quando o utilizador introduzir um número par, pare o programa.\n"
   ]
  },
  {
   "cell_type": "code",
   "execution_count": 6,
   "metadata": {},
   "outputs": [],
   "source": [
    "# Completar o exercício aqui"
   ]
  },
  {
   "cell_type": "markdown",
   "metadata": {},
   "source": [
    "**5) Faça um programa que apresente a soma de todos os números pares desde 0 até 100:**\n",
    "\n",
    "* pode utilizar as funções sum() e range() para o tornar mais fácil. \n",
    "* O terceiro parâmetro na função range (início, fim, salto) indica um salto de números"
   ]
  },
  {
   "cell_type": "code",
   "execution_count": 7,
   "metadata": {},
   "outputs": [],
   "source": [
    "# Completar o exercício aqui"
   ]
  },
  {
   "cell_type": "markdown",
   "metadata": {},
   "source": [
    "**6) Crie um programa que solicite ao utilizador um número inteiro de 0 a 9. Repita o processo até que o número seja correto. Em seguida, verifique se o número está na lista específica (2, 4, 5, 7). Se estiver, informe ao utilizador; caso contrário, repita o processo.**\n",
    "\n",
    "*Pista: a sintaxe “valor in lista” permite comprovar facilmente se um valor se encontra numa lista (devolver True ou False)*"
   ]
  },
  {
   "cell_type": "code",
   "execution_count": 1,
   "metadata": {},
   "outputs": [],
   "source": [
    "# Completar o exercício aqui"
   ]
  },
  {
   "cell_type": "markdown",
   "metadata": {},
   "source": [
    "**7) Faça um programa que utilize a função range() e a conversão para listas gera as seguintes listas dinamicamente (e mostrá-las com print):**\n",
    "\n",
    "* Todos os números de 0 a 10 [0, 1, 2, ..., 10]\n",
    "* Todos os números de -10 a 0 [-10, -9, -8, ..., 0]\n",
    "* Todos os números pares de 0 a 20 [0, 2, 4, ..., 20]\n",
    "* Todos os números ímpares entre -20 e 0 [-19, -17, -15, ..., -1]\n",
    "* Todos os números múltiplos de 5 a 50 [0, 5, 10, ..., 50]\n",
    "\n",
    "*Pista: utilizar o terceiro parâmetro da função range (início, fim, salto).*"
   ]
  },
  {
   "cell_type": "code",
   "execution_count": 10,
   "metadata": {},
   "outputs": [],
   "source": [
    "# Completar o exercício aqui"
   ]
  },
  {
   "cell_type": "markdown",
   "metadata": {},
   "source": [
    "**8) Crie um programa que, dadas duas listas, lista_1 e lista_2, gere uma terceira lista com os elementos que se repetem nas duas listas:**\n",
    "\n",
    "lista_1 = [\"o\",'l','a',' ', 'm','u','n','d','o']\n",
    "\n",
    "lista_2 = [\"o\",'l','a',' ', 'l','u','a'] \n",
    "\n",
    "* Mas não deve repetir-se nenhum elemento na nova lista"
   ]
  },
  {
   "cell_type": "code",
   "execution_count": 11,
   "metadata": {},
   "outputs": [],
   "source": [
    "# Completar o exercício aqui\n",
    "lista_1 = [\"o\",'l','a',' ', 'm','u','n','d','o']\n",
    "lista_2 = [\"o\",'l','a',' ', 'l','u','a'] \n",
    "lista_3 = []"
   ]
  }
 ],
 "metadata": {
  "anaconda-cloud": {},
  "kernelspec": {
   "display_name": "Python 3 (ipykernel)",
   "language": "python",
   "name": "python3"
  },
  "language_info": {
   "codemirror_mode": {
    "name": "ipython",
    "version": 3
   },
   "file_extension": ".py",
   "mimetype": "text/x-python",
   "name": "python",
   "nbconvert_exporter": "python",
   "pygments_lexer": "ipython3",
   "version": "3.11.7"
  }
 },
 "nbformat": 4,
 "nbformat_minor": 4
}
