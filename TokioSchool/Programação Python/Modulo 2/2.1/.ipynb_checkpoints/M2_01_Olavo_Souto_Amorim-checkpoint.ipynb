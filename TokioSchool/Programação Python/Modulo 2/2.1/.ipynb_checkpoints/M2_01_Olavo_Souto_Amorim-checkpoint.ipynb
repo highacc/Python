{
 "cells": [
  {
   "cell_type": "markdown",
   "metadata": {},
   "source": [
    "# Exercícios Módulo 2. Tipos básicos\n",
    "\n",
    "Considerações a ter em conta: \n",
    "\n",
    "* Guardar este documento com o seguinte formato para entrega: __M2_01_nome_apelido1_apelido2__\n",
    "* Fazer os exercícios com as ferramentas vistas nas sessões. Ainda não chegámos às condicionais nem ciclos \n",
    "* Comentar o código\n",
    "* Utilizar nomes de variáveis apropriados, se vai guardar uma nota, chamar a essa variável nota, não n ou x"
   ]
  },
  {
   "cell_type": "markdown",
   "metadata": {},
   "source": [
    "## Exercícios de tipos de variáveis básicos"
   ]
  },
  {
   "cell_type": "markdown",
   "metadata": {},
   "source": [
    "**1) Identifica os tipos de dados (inteiro, float, booleano ou string) dos seguintes valores:**\n",
    "```python\n",
    "\"Olá Mundo\"        # String\n",
    "True        # Booleano\n",
    "-25                 # Inteiro\n",
    "1.167               # float\n",
    "' '                 # String\n",
    "```"
   ]
  },
  {
   "cell_type": "markdown",
   "metadata": {},
   "source": [
    "**2) Indica o resultado que irão mostrar os prints com base a estas variáveis (sem necessidade de programar, mentalmente):**\n",
    "```python\n",
    "a = 10\n",
    "b = -5\n",
    "c =  \"Olá \" \n",
    "print(a * 5)         # 50\n",
    "print(a - b)         # 15\n",
    "print(c + \"Mundo\")   # Olá Mundo\n",
    "print(c * 2)         # Olá Olá  \n",
    "print(c[-1])         # \" \" \n",
    "print(c[1:])         # \"lá \"\n",
    "```"
   ]
  },
  {
   "cell_type": "markdown",
   "metadata": {},
   "source": [
    "**3) Criar três strings diferentes e, em seguida, gera uma quarta string concatenando as três com um travessão \"-\". \n",
    "Em seguida:**\n",
    "\n",
    "* Exibe a quarta variável completa;\n",
    "* Os 5 primeiros caracteres;\n",
    "* Os 5 últimos caracteres"
   ]
  },
  {
   "cell_type": "code",
   "execution_count": 8,
   "metadata": {},
   "outputs": [
    {
     "name": "stdout",
     "output_type": "stream",
     "text": [
      "Uma String-Outra String-Mais uma String\n",
      "Uma S\n",
      "tring\n"
     ]
    }
   ],
   "source": [
    "# Completar o exercício aqui\n",
    "string1 = \"Uma String\"\n",
    "string2 = \"Outra String\"\n",
    "string3 = \"Mais uma String\"\n",
    "string4 = string1 + \"-\" + string2 + \"-\" + string3\n",
    "print(string4)\n",
    "print(\"{:.5}\".format(string4))\n",
    "print(string4[-5:])\n"
   ]
  },
  {
   "cell_type": "code",
   "execution_count": null,
   "metadata": {},
   "outputs": [],
   "source": []
  }
 ],
 "metadata": {
  "anaconda-cloud": {},
  "kernelspec": {
   "display_name": "Python 3 (ipykernel)",
   "language": "python",
   "name": "python3"
  },
  "language_info": {
   "codemirror_mode": {
    "name": "ipython",
    "version": 3
   },
   "file_extension": ".py",
   "mimetype": "text/x-python",
   "name": "python",
   "nbconvert_exporter": "python",
   "pygments_lexer": "ipython3",
   "version": "3.11.7"
  }
 },
 "nbformat": 4,
 "nbformat_minor": 4
}
