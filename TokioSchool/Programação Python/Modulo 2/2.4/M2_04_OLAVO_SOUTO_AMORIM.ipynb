{
 "cells": [
  {
   "cell_type": "markdown",
   "metadata": {},
   "source": [
    "# Exercícios Módulo 2. Tipos avançados\n",
    "\n",
    "Considerações a ter em conta:\n",
    "\n",
    "* Guardar este documento com o seguinte formato para entrega: __M2_04_nome_apelido1_apelido2__ \n",
    "* Fazer os exercícios com as ferramentas vistas nas sessões. Ainda não chegámos às condicionais nem ciclos \n",
    "* Comentar o código\n",
    "* Utilizar nomes de variáveis apropriados, se vai guardar uma nota, chamar a essa variável nota, não n ou x"
   ]
  },
  {
   "cell_type": "markdown",
   "metadata": {},
   "source": [
    "## Exercícios de tipos avançados"
   ]
  },
  {
   "cell_type": "markdown",
   "metadata": {},
   "source": [
    "**1) Trabalhar com listas e tuplas**\n",
    "\n",
    "* Crie uma lista e uma tupla que contenham strings (pelo menos 4 elementos). A temática é livre e pode ser sobre veículos, comida, música, etc.\n",
    "* Imprima a lista e a tupla.\n",
    "* Imprima o 2.º elemento da lista e o penúltimo da tupla.\n",
    "* Modifique algum elemento da lista e da tupla. Em seguida, imprima o resultado novamente.\n",
    "* Mostre o tamanho da lista e da tupla.\n",
    "* Adicione algum elemento à lista e à tupla. Mostre a lista e a tupla novamente para verificar se a ação foi realizada corretamente.\n",
    "* Apague ou elimine o conteúdo da lista e da tupla. Imprima a lista e a tupla novamente para verificar se a ação foi realizada corretamente."
   ]
  },
  {
   "cell_type": "code",
   "execution_count": 10,
   "metadata": {},
   "outputs": [
    {
     "name": "stdout",
     "output_type": "stream",
     "text": [
      "['lapis', 'caneta', 'papel', 'caderno', 'tesoura']\n",
      "('borracha', 'cola', 'corretivo', 'agenda', 'calculadora')\n",
      "caneta\n",
      "agenda\n",
      "pincel\n",
      "agenda\n",
      "5\n",
      "5\n",
      "['lapis', 'pincel', 'papel', 'caderno', 'tesoura', 'caneta']\n",
      "('borracha', 'cola', 'corretivo', 'agenda', 'calculadora')\n",
      "[]\n",
      "()\n"
     ]
    }
   ],
   "source": [
    "# Completar o exercício aqui\n",
    "#Crie uma lista e uma tupla que contenham strings (pelo menos 4 elementos). A temática é livre e pode ser sobre veículos, comida, música, etc.\n",
    "lista = [\"lapis\", \"caneta\", \"papel\", \"caderno\", \"tesoura\"]\n",
    "tupla = (\"borracha\", \"cola\", \"corretivo\", \"agenda\", \"calculadora\")\n",
    "\n",
    "#Imprima a lista e a tupla.\n",
    "print(lista)\n",
    "print(tupla)\n",
    "\n",
    "#Imprima o 2.º elemento da lista e o penúltimo da tupla.\n",
    "print(lista[1])\n",
    "print(tupla[-2])\n",
    "\n",
    "#Modifique algum elemento da lista e da tupla. Em seguida, imprima o resultado novamente.\n",
    "lista[1] = \"pincel\"\n",
    "print(lista[1])\n",
    "#Os elementos da tupla não são modificáveis, portanto, para continuar o exercício vou comentar esta parte.\n",
    "#tupla[-2] = \"erro\"\n",
    "print(tupla[-2])\n",
    "\n",
    "#Mostre o tamanho da lista e da tupla.\n",
    "print(len(lista))\n",
    "print(len(tupla))\n",
    "\n",
    "#Adicione algum elemento à lista e à tupla. Mostre a lista e a tupla novamente para verificar se a ação foi realizada corretamente.\n",
    "lista.append(\"caneta\")\n",
    "print(lista)\n",
    "#Tuplas não permitem o metodo append, por não serem modificaveis.\n",
    "#tupla.append(\"erro\")\n",
    "print(tupla)\n",
    "\n",
    "#Apague ou elimine o conteúdo da lista e da tupla. Imprima a lista e a tupla novamente para verificar se a ação foi realizada corretamente.\n",
    "lista = []\n",
    "print(lista)\n",
    "tupla = ()\n",
    "print(tupla)\n"
   ]
  },
  {
   "cell_type": "markdown",
   "metadata": {},
   "source": [
    "**2) Trabalhar com sets e dicionários**\n",
    "\n",
    "* Crie um set com pelo menos 3 elementos relacionados a um tema (por exemplo: veículos, comida, música).\n",
    "* Crie um dicionário com 3 pares chave-valor relacionados ao mesmo tema.\n",
    "* Mostre o set e o dicionário.\n",
    "* Mostre o 2º elemento do set e o valor da primeira chave-valor do dicionário.\n",
    "* Modifique um elemento do set ou do dicionário e mostre o resultado.\n",
    "* Mostre o tamanho do set e do dicionário.\n",
    "* Pesquise se um elemento está presente no set e no dicionário e mostre os resultados (True ou False).\n",
    "* Adicione um elemento ao set e uma chave-valor ao dicionário e mostre ambos.\n",
    "* Apague o conteúdo do set e do dicionário e mostre-os novamente."
   ]
  },
  {
   "cell_type": "code",
   "execution_count": 25,
   "metadata": {},
   "outputs": [
    {
     "name": "stdout",
     "output_type": "stream",
     "text": [
      "{'tesla', 'ferrari', 'audi', 'bmw'}\n",
      "setveiculos = <class 'set'>\n",
      "dicionarioveiculos = <class 'dict'>\n",
      "{'BMW': 'i4', 'Audi': 'a5', 'Tesla': 'Model Y', 'Ferrari': '348'}\n",
      "ferrari\n",
      "i4\n",
      "setveiculos:  {'tesla', 'ferrari', 'audi', 'bmw'}\n",
      "dicionarioveiculos:  {'BMW': 'i4', 'Audi': 'a5', 'Tesla': 'Model Y', 'Ferrari': '348'}\n",
      "dicionarioveiculos Atualizado:  {'BMW': 'i7', 'Audi': 'a5', 'Tesla': 'Model Y', 'Ferrari': '348'}\n",
      "setveiculos length:  4\n",
      "dicionarioveiculos length:  4\n",
      "True\n",
      "False\n",
      "True\n",
      "False\n",
      "setveiculos:  {'bmw', 'tesla', 'ferrari', 'audi', 'FIAT'}\n",
      "dicionarioveiculos:  {'BMW': 'i7', 'Audi': 'a5', 'Tesla': 'Model Y', 'Ferrari': '348', 'Ford': 'Focus'}\n",
      "setveiculos:  set()\n",
      "dicionarioveiculos:  {}\n"
     ]
    }
   ],
   "source": [
    "#  Completar o exercício aqui\n",
    "#Crie um set com pelo menos 3 elementos relacionados a um tema (por exemplo: veículos, comida, música).\n",
    "setveiculos = {\"bmw\", \"audi\", \"tesla\", \"ferrari\"}\n",
    "print(setveiculos)\n",
    "print(\"setveiculos =\", type(setveiculos))\n",
    "\n",
    "#Crie um dicionário com 3 pares chave-valor relacionados ao mesmo tema.\n",
    "dicionarioveiculos = {\n",
    "    \"BMW\" : \"i4\",\n",
    "    \"Audi\" : \"a5\",\n",
    "    \"Tesla\" : \"Model Y\",\n",
    "    \"Ferrari\" : \"348\"\n",
    "}\n",
    "print(\"dicionarioveiculos =\", type(dicionarioveiculos))\n",
    "print(dicionarioveiculos)\n",
    "\n",
    "#Mostre o 2º elemento do set e o valor da primeira chave-valor do dicionário.\n",
    "#Sets não podem ser acessados fazendo uso de um indice, para tal podemos percorrer o set com um loop ou atribuir o set a uma lista.\n",
    "listveiculos = list(setveiculos)\n",
    "print(listveiculos[1])\n",
    "chavedic = dicionarioveiculos[\"BMW\"]\n",
    "print(chavedic)\n",
    "\n",
    "#Modifique um elemento do set ou do dicionário e mostre o resultado.\n",
    "print(\"setveiculos: \", setveiculos)\n",
    "#Uma vez criado um conjunto set não é possível alterar os seus elementos\n",
    "print(\"dicionarioveiculos: \", dicionarioveiculos)\n",
    "dicionarioveiculos[\"BMW\"] = \"i7\"\n",
    "print(\"dicionarioveiculos Atualizado: \", dicionarioveiculos)\n",
    "\n",
    "#Mostre o tamanho do set e do dicionário.\n",
    "print(\"setveiculos length: \", len(setveiculos))\n",
    "print(\"dicionarioveiculos length: \", len(dicionarioveiculos))\n",
    "\n",
    "#Pesquise se um elemento está presente no set e no dicionário e mostre os resultados (True ou False).\n",
    "print(\"bmw\" in setveiculos)\n",
    "print(\"Ford\" in setveiculos)\n",
    "print(\"BMW\" in dicionarioveiculos)\n",
    "print(\"FIAT\" in dicionarioveiculos)\n",
    "\n",
    "#Adicione um elemento ao set e uma chave-valor ao dicionário e mostre ambos.\n",
    "setveiculos.add(\"FIAT\")\n",
    "print(\"setveiculos: \", setveiculos)\n",
    "dicionarioveiculos[\"Ford\"] = \"Focus\"\n",
    "print(\"dicionarioveiculos: \", dicionarioveiculos)\n",
    "\n",
    "#Apague o conteúdo do set e do dicionário e mostre-os novamente.\n",
    "setveiculos.clear()\n",
    "print(\"setveiculos: \", setveiculos)\n",
    "dicionarioveiculos.clear()\n",
    "print(\"dicionarioveiculos: \", dicionarioveiculos)"
   ]
  },
  {
   "cell_type": "markdown",
   "metadata": {},
   "source": [
    "**3) Peça ao utilizador para inserir 3 números (inteiros ou decimais) individualmente.**\n",
    "* Crie uma lista com os números fornecidos.\n",
    "* Calcule o somatório dos elementos da lista.\n",
    "* Imprima o resultado.\n",
    "\n",
    "*Ajuda: existe uma função chamada sum(lista) Experimente-a!*"
   ]
  },
  {
   "cell_type": "code",
   "execution_count": 2,
   "metadata": {},
   "outputs": [
    {
     "name": "stdin",
     "output_type": "stream",
     "text": [
      "Qual o primeiro numero inteiro?  1\n",
      "Qual o segundo numero inteiro?  2\n",
      "Qual o numero decimal?  3.5\n"
     ]
    },
    {
     "name": "stdout",
     "output_type": "stream",
     "text": [
      "[1, 2, 3.5]\n",
      "6.5\n"
     ]
    }
   ],
   "source": [
    "# Completar o exercício \n",
    "num1 = int(input(\"Qual o primeiro numero inteiro? \"))\n",
    "num2 = int(input(\"Qual o segundo numero inteiro? \"))\n",
    "num3 = float(input(\"Qual o numero decimal? \"))\n",
    "\n",
    "#Crie uma lista com os números fornecidos.\n",
    "lista = [num1, num2, num3]\n",
    "print(lista)\n",
    "#Calcule o somatório dos elementos da lista.\n",
    "somalista = sum(lista)\n",
    "print(somalista)"
   ]
  },
  {
   "cell_type": "markdown",
   "metadata": {},
   "source": [
    "**4) Peça ao utilizador para inserir 4 números (inteiros ou decimais) individualmente.**\n",
    "\n",
    "* Crie uma lista com os números fornecidos.\n",
    "* Calcule a média aritmética dos elementos da lista.\n",
    "* Imprima o resultado.\n",
    "\n",
    "*Neste caso sabemos que o número de elementos que o utilizador introduziu é 4, mas o objetivo será deixar o programa abstrato,e portanto, não fazer referência ao número 3; deve calcular o numeros de elementos da lista*"
   ]
  },
  {
   "cell_type": "code",
   "execution_count": 2,
   "metadata": {},
   "outputs": [
    {
     "name": "stdin",
     "output_type": "stream",
     "text": [
      "Qual o primeiro numero inteiro?  1\n",
      "Qual o segundo numero inteiro?  2\n",
      "Qual o primeiro numero decimal?  3.5\n",
      "Qual o segundo decimal?  4.5\n"
     ]
    },
    {
     "name": "stdout",
     "output_type": "stream",
     "text": [
      "[1, 2, 3.5, 4.5]\n",
      "2.75\n"
     ]
    }
   ],
   "source": [
    "# Completar o exercício aqui\n",
    "num1 = int(input(\"Qual o primeiro numero inteiro? \"))\n",
    "num2 = int(input(\"Qual o segundo numero inteiro? \"))\n",
    "num3 = float(input(\"Qual o primeiro numero decimal? \"))\n",
    "num4 = float(input(\"Qual o segundo decimal? \"))\n",
    "#Crie uma lista com os números fornecidos.\n",
    "lista = [num1, num2, num3, num4]\n",
    "print(lista)\n",
    "\n",
    "#Calcule a média aritmética dos elementos da lista.\n",
    "soma = sum(lista)\n",
    "medialista = soma/len(lista)\n",
    "print(medialista)\n"
   ]
  },
  {
   "cell_type": "markdown",
   "metadata": {},
   "source": [
    "**5) Crie uma matriz inicial com quatro sublistas, cada uma contendo três números inteiros.**\n",
    "* Calcule a soma dos três primeiros elementos da primeira sublista e adicione esse resultado como o quarto elemento na mesma sublista.\n",
    "* Repita o processo para as outras três sublistas, calculando a soma dos três primeiros elementos e adicionando esse resultado como o quarto elemento em cada sublista.\n",
    "\n",
    "*Não vale colocar diretamente os valores (nem os índices nem a soma)\n",
    "*Há que pesquisar uma forma automatizada de aceder e modificar esses valores"
   ]
  },
  {
   "cell_type": "code",
   "execution_count": 9,
   "metadata": {},
   "outputs": [
    {
     "name": "stdout",
     "output_type": "stream",
     "text": [
      "[[1, 1, 1, 3], [2, 2, 7, 11], [3, 3, 9, 15], [4, 4, 13, 21]]\n"
     ]
    }
   ],
   "source": [
    "matriz = [ \n",
    "    [1, 1, 1],\n",
    "    [2, 2, 7],\n",
    "    [3, 3, 9],\n",
    "    [4, 4, 13]\n",
    "]\n",
    "\n",
    "# Completar o exercício aqui\n",
    "#Calcule a soma dos três primeiros elementos da primeira sublista e adicione esse resultado como o quarto elemento na mesma sublista.\n",
    "for indice in range(len(matriz)):\n",
    "    #Somar os 3 primeiros elementos da lista pertencente a matriz na posição indice\n",
    "    soma = sum(matriz[indice][:3])\n",
    "    #Adicionar a soma a essa lista\n",
    "    matriz[indice].append(soma)\n",
    "print(matriz)\n"
   ]
  },
  {
   "cell_type": "markdown",
   "metadata": {},
   "source": [
    "**6) Existe um videojogo na qual os atributos das personagens estão  guardadas nos seguintes dicionários:**\n",
    "\n",
    "* cavaleiro = { 'vida':2, 'ataque':2, 'defesa': 2, 'alcance':2 }\n",
    "* guerreiro = { 'vida':2, 'ataque':2, 'defesa': 2, 'alcance':2 }\n",
    "* arqueiro = { 'vida':2, 'ataque':2, 'defesa': 2, 'alcance':2 }\n",
    "\n",
    "Ao passar para o segundo nível do jogo, temos de automaticamente alterar os seus valores:\n",
    "\n",
    "* O cavaleiro terá o dobro de vida e de defesa que um guerreiro.\n",
    "* O guerreiro terá o dobro do ataque e do alcance que um cavaleiro.\n",
    "* O arqueiro terá a mesma vida e ataque que um guerreiro, mas a metade da sua defesa e o dobro do seu alcance.\n",
    "\n",
    "Imprimir como fica os atributos das três personagens.\n"
   ]
  },
  {
   "cell_type": "code",
   "execution_count": 10,
   "metadata": {},
   "outputs": [
    {
     "name": "stdout",
     "output_type": "stream",
     "text": [
      "Cavaleiro :  {'vida': 4, 'ataque': 2, 'defesa': 4, 'alcance': 2}\n",
      "Guerreiro :  {'vida': 2, 'ataque': 4, 'defesa': 2, 'alcance': 4}\n",
      "Arqueiro :  {'vida': 2, 'ataque': 4, 'defesa': 1.0, 'alcance': 4}\n"
     ]
    }
   ],
   "source": [
    "cavaleiro = { 'vida':2, 'ataque':2, 'defesa': 2, 'alcance':2 }\n",
    "guerreiro = { 'vida':2, 'ataque':2, 'defesa': 2, 'alcance':2 }\n",
    "arqueiro  = { 'vida':2, 'ataque':2, 'defesa': 2, 'alcance':2 }\n",
    "\n",
    "# Completar o exercício aqui\n",
    "\n",
    "cavaleiro['vida'] = guerreiro['vida'] * 2\n",
    "cavaleiro['defesa'] = guerreiro['defesa'] * 2\n",
    "guerreiro['ataque'] = cavaleiro['ataque'] * 2\n",
    "guerreiro['alcance'] = cavaleiro['alcance'] * 2\n",
    "arqueiro['ataque'] = guerreiro['ataque']\n",
    "arqueiro['defesa'] = guerreiro['defesa'] / 2\n",
    "arqueiro['alcance'] = arqueiro['alcance'] * 2\n",
    "print(\"Cavaleiro : \", cavaleiro)\n",
    "print(\"Guerreiro : \", guerreiro)\n",
    "print(\"Arqueiro : \", arqueiro)"
   ]
  },
  {
   "cell_type": "code",
   "execution_count": null,
   "metadata": {},
   "outputs": [],
   "source": []
  }
 ],
 "metadata": {
  "anaconda-cloud": {},
  "kernelspec": {
   "display_name": "Python 3 (ipykernel)",
   "language": "python",
   "name": "python3"
  },
  "language_info": {
   "codemirror_mode": {
    "name": "ipython",
    "version": 3
   },
   "file_extension": ".py",
   "mimetype": "text/x-python",
   "name": "python",
   "nbconvert_exporter": "python",
   "pygments_lexer": "ipython3",
   "version": "3.11.7"
  }
 },
 "nbformat": 4,
 "nbformat_minor": 4
}
