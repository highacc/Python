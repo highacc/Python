{
 "cells": [
  {
   "cell_type": "markdown",
   "metadata": {},
   "source": [
    "# Exercícios Módulo 2. Operadores\n",
    "\n",
    "Considerações a ter em conta:\n",
    "\n",
    "- Guardar este documento com o seguinte formato para entrega: __M2_02_nome_apelido1_apelido2__ \n",
    "- Fazer os exercícios com as ferramentas vistas nas sessões. Ainda não chegámos às condicionais nem ciclos \n",
    "- Comentar o código\n",
    "- Utilizar nomes de variáveis apropriados, se vai guardar uma nota, chamar a essa variável nota, não n ou x\n"
   ]
  },
  {
   "cell_type": "markdown",
   "metadata": {},
   "source": [
    "## Exercícios de operadores e expressões"
   ]
  },
  {
   "cell_type": "markdown",
   "metadata": {},
   "source": [
    "**1)  Criar 3 variáveis com 3 notas numéricas e fazer a média aritmética. \n",
    "Mostrar o resultado final com uma mensagem como esta:**\n",
    "* “A nota média é 6,0”"
   ]
  },
  {
   "cell_type": "code",
   "execution_count": 1,
   "metadata": {},
   "outputs": [],
   "source": [
    "# Completar o exercício aqui\n"
   ]
  },
  {
   "cell_type": "markdown",
   "metadata": {},
   "source": [
    "**2) Crie 4 variáveis com notas numéricas em variáveis separadas. Considere os pesos atribuídos a cada nota:**\n",
    "* 1ª nota: vale 15% do total\n",
    "* 2ª nota: vale 35% do total\n",
    "* 3ª nota: vale 20% do total\n",
    "* 4ª nota: vale 30% do total\n",
    "\n",
    "**Calcule a média ponderada dessas notas e armazene o resultado em uma variável chamada media.**"
   ]
  },
  {
   "cell_type": "code",
   "execution_count": 1,
   "metadata": {},
   "outputs": [],
   "source": [
    "# Completar o exercício aqui\n"
   ]
  },
  {
   "cell_type": "markdown",
   "metadata": {},
   "source": [
    "**3) Pedir dois valores ao utilizador (usar input()) e avaliar de forma booleana (True ou False) os  seguintes aspetos:**\n",
    "\n",
    "* Se os dois números são iguais\n",
    "* Se os dois números são diferentes\n",
    "* Se o primeiro é maior que o segundo\n",
    "* Se o segundo é maior ou igual ao primeiro"
   ]
  },
  {
   "cell_type": "code",
   "execution_count": 3,
   "metadata": {},
   "outputs": [],
   "source": [
    "# Completar o exercício aqui\n"
   ]
  },
  {
   "cell_type": "markdown",
   "metadata": {},
   "source": [
    "**4) Utilize a função input() para pedir ao utilizador que insira dois valores no formato string.\n",
    "Em seguida, avalie se o comprimento de cada string é maior ou igual a 3 e menor que 10.\n",
    "Exiba o resultado (True ou False) para cada string separadamente.**"
   ]
  },
  {
   "cell_type": "code",
   "execution_count": 4,
   "metadata": {},
   "outputs": [],
   "source": [
    "# Completar o exercício aqui\n"
   ]
  },
  {
   "cell_type": "markdown",
   "metadata": {},
   "source": [
    "**5) Transcrever o seguinte algoritmo para o exercício de manipulação de números mágicos:**\n",
    "\n",
    "* Guarde o valor 12345679 (sem o 8) numa variável chamada numero_magico.\n",
    "* Peça ao utilizador que insira um valor entre 1 e 9, assegurando que seja um número inteiro.\n",
    "* Multiplique o valor inserido pelo utilizador por 9 e guarde o resultado na variável numero_utilizador.\n",
    "* Multiplique o numero_magico pelo numero_utilizador e atualize o valor de numero_magico.\n",
    "* Finalmente, imprima o valor final de numero_magico."
   ]
  },
  {
   "cell_type": "code",
   "execution_count": 5,
   "metadata": {},
   "outputs": [],
   "source": [
    "# Completar o exercício aqui\n"
   ]
  }
 ],
 "metadata": {
  "anaconda-cloud": {},
  "kernelspec": {
   "display_name": "Python 2",
   "language": "python",
   "name": "python2"
  },
  "language_info": {
   "codemirror_mode": {
    "name": "ipython",
    "version": 2
   },
   "file_extension": ".py",
   "mimetype": "text/x-python",
   "name": "python",
   "nbconvert_exporter": "python",
   "pygments_lexer": "ipython2",
   "version": "2.7.16"
  }
 },
 "nbformat": 4,
 "nbformat_minor": 2
}
