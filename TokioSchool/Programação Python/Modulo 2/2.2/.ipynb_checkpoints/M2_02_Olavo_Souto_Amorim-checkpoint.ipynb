{
 "cells": [
  {
   "cell_type": "markdown",
   "metadata": {},
   "source": [
    "# Exercícios Módulo 2. Operadores\n",
    "\n",
    "Considerações a ter em conta:\n",
    "\n",
    "- Guardar este documento com o seguinte formato para entrega: __M2_02_nome_apelido1_apelido2__ \n",
    "- Fazer os exercícios com as ferramentas vistas nas sessões. Ainda não chegámos às condicionais nem ciclos \n",
    "- Comentar o código\n",
    "- Utilizar nomes de variáveis apropriados, se vai guardar uma nota, chamar a essa variável nota, não n ou x\n"
   ]
  },
  {
   "cell_type": "markdown",
   "metadata": {},
   "source": [
    "## Exercícios de operadores e expressões"
   ]
  },
  {
   "cell_type": "markdown",
   "metadata": {},
   "source": [
    "**1)  Criar 3 variáveis com 3 notas numéricas e fazer a média aritmética. \n",
    "Mostrar o resultado final com uma mensagem como esta:**\n",
    "* “A nota média é 6,0”"
   ]
  },
  {
   "cell_type": "code",
   "execution_count": 1,
   "metadata": {},
   "outputs": [
    {
     "name": "stdout",
     "output_type": "stream",
     "text": [
      "A nota média é 6.0\n"
     ]
    }
   ],
   "source": [
    "# Completar o exercício aqui\n",
    "nota1 = 5\n",
    "nota2 = 6\n",
    "nota3 = 7\n",
    "media = (nota1+nota2+nota3)/3\n",
    "print(\"A nota média é {:.1f}\".format(media))\n"
   ]
  },
  {
   "cell_type": "markdown",
   "metadata": {},
   "source": [
    "**2) Crie 4 variáveis com notas numéricas em variáveis separadas. Considere os pesos atribuídos a cada nota:**\n",
    "* 1ª nota: vale 15% do total\n",
    "* 2ª nota: vale 35% do total\n",
    "* 3ª nota: vale 20% do total\n",
    "* 4ª nota: vale 30% do total\n",
    "\n",
    "**Calcule a média ponderada dessas notas e armazene o resultado em uma variável chamada media.**"
   ]
  },
  {
   "cell_type": "code",
   "execution_count": 8,
   "metadata": {},
   "outputs": [
    {
     "name": "stdout",
     "output_type": "stream",
     "text": [
      "A nota média é 6.9\n"
     ]
    }
   ],
   "source": [
    "# Completar o exercício aqui\n",
    "nota1 = 6.5\n",
    "nota2 = 6\n",
    "nota3 = 7\n",
    "nota4 = 8\n",
    "media = (nota1*0.15)+(nota2*0.35)+(nota3*0.2)+(nota4*0.3)\n",
    "#Como a media ponderada seria (soma das notas*peso) / (soma dos pesos), ja que a soma dos pesos é 1 não é necessario exibila.\n",
    "print(\"A nota média é {:.1f}\".format(media))\n"
   ]
  },
  {
   "cell_type": "markdown",
   "metadata": {},
   "source": [
    "**3) Pedir dois valores ao utilizador (usar input()) e avaliar de forma booleana (True ou False) os  seguintes aspetos:**\n",
    "\n",
    "* Se os dois números são iguais\n",
    "* Se os dois números são diferentes\n",
    "* Se o primeiro é maior que o segundo\n",
    "* Se o segundo é maior ou igual ao primeiro"
   ]
  },
  {
   "cell_type": "code",
   "execution_count": 10,
   "metadata": {},
   "outputs": [
    {
     "name": "stdin",
     "output_type": "stream",
     "text": [
      "Primeiro numero:  1\n",
      "Segundo numero:  2\n"
     ]
    },
    {
     "name": "stdout",
     "output_type": "stream",
     "text": [
      "False\n",
      "True\n",
      "False\n",
      "True\n"
     ]
    }
   ],
   "source": [
    "# Completar o exercício aqui\n",
    "numero1 = int(input(\"Primeiro numero: \"))\n",
    "numero2 = int(input(\"Segundo numero: \"))\n",
    "#Coloquei as avaliações booleanas em um print, pois, a execução estava encerrando na primeira boolean.\n",
    "print(numero1 == numero2)\n",
    "print(numero1 != numero2)\n",
    "print(numero1 > numero2)\n",
    "print(numero1 <= numero2)"
   ]
  },
  {
   "cell_type": "markdown",
   "metadata": {},
   "source": [
    "**4) Utilize a função input() para pedir ao utilizador que insira dois valores no formato string.\n",
    "Em seguida, avalie se o comprimento de cada string é maior ou igual a 3 e menor que 10.\n",
    "Exiba o resultado (True ou False) para cada string separadamente.**"
   ]
  },
  {
   "cell_type": "code",
   "execution_count": 13,
   "metadata": {},
   "outputs": [
    {
     "name": "stdin",
     "output_type": "stream",
     "text": [
      "Primeira string:  hello\n",
      "Segunda string:  hello world\n"
     ]
    },
    {
     "name": "stdout",
     "output_type": "stream",
     "text": [
      "True\n",
      "False\n"
     ]
    }
   ],
   "source": [
    "# Completar o exercício aqui\n",
    "string1 = input(\"Primeira string: \")\n",
    "string2 = input(\"Segunda string: \")\n",
    "\n",
    "print(len(string1) >= 3 and len(string1) < 10)\n",
    "print(len(string2) >= 3 and len(string2) < 10)\n"
   ]
  },
  {
   "cell_type": "markdown",
   "metadata": {},
   "source": [
    "**5) Transcrever o seguinte algoritmo para o exercício de manipulação de números mágicos:**\n",
    "\n",
    "* Guarde o valor 12345679 (sem o 8) numa variável chamada numero_magico.\n",
    "* Peça ao utilizador que insira um valor entre 1 e 9, assegurando que seja um número inteiro.\n",
    "* Multiplique o valor inserido pelo utilizador por 9 e guarde o resultado na variável numero_utilizador.\n",
    "* Multiplique o numero_magico pelo numero_utilizador e atualize o valor de numero_magico.\n",
    "* Finalmente, imprima o valor final de numero_magico."
   ]
  },
  {
   "cell_type": "code",
   "execution_count": 1,
   "metadata": {},
   "outputs": [
    {
     "name": "stdout",
     "output_type": "stream",
     "text": [
      "12345679\n"
     ]
    },
    {
     "name": "stdin",
     "output_type": "stream",
     "text": [
      "Numero inteiro de 1 a 9:  2\n"
     ]
    },
    {
     "name": "stdout",
     "output_type": "stream",
     "text": [
      "222222222\n"
     ]
    }
   ],
   "source": [
    "# Completar o exercício aqui\n",
    "numero_magico = 12345679\n",
    "print(numero_magico)\n",
    "valor = int(input(\"Numero inteiro de 1 a 9: \"))\n",
    "numero_utilizador = valor * 9\n",
    "multip = numero_magico * numero_utilizador\n",
    "numero_magico = multip\n",
    "print(numero_magico)\n",
    "\n"
   ]
  },
  {
   "cell_type": "code",
   "execution_count": null,
   "metadata": {},
   "outputs": [],
   "source": []
  }
 ],
 "metadata": {
  "anaconda-cloud": {},
  "kernelspec": {
   "display_name": "Python 3 (ipykernel)",
   "language": "python",
   "name": "python3"
  },
  "language_info": {
   "codemirror_mode": {
    "name": "ipython",
    "version": 3
   },
   "file_extension": ".py",
   "mimetype": "text/x-python",
   "name": "python",
   "nbconvert_exporter": "python",
   "pygments_lexer": "ipython3",
   "version": "3.11.7"
  }
 },
 "nbformat": 4,
 "nbformat_minor": 4
}
