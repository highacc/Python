{
 "cells": [
  {
   "cell_type": "markdown",
   "metadata": {},
   "source": [
    "# Exercícios Módulo 2. Entrada e saída de dados (Soluções)\n",
    "\n",
    "Considerações a ter em conta:\n",
    "\n",
    "* Guardar este documento com o seguinte formato para entrega: __M2_03_nome_apelido1_apelido2__\n",
    "* Fazer os exercícios com as ferramentas vistas nas sessões. Ainda não chegámos às condicionais nem ciclos \n",
    "* Comentar o código\n",
    "* Utilizar nomes de variáveis apropriados, se vai guardar uma nota, chamar a essa variável nota, não n ou x"
   ]
  },
  {
   "cell_type": "markdown",
   "metadata": {},
   "source": [
    "**1) Utilizar o método input() para fazer as seguintes tarefas:**\n",
    "* Peça um número ao utilizador e imprima o resultado juntamente com o tipo de dado capturado pela função input().\n",
    "* Peça um número ao utilizador e converta o valor introduzido para o formato int. Em seguida, imprima o número inteiro e o seu tipo.\n",
    "* Peça um número ao utilizador e converta o valor introduzido para o formato float. Imprima o número decimal e o seu tipo."
   ]
  },
  {
   "cell_type": "code",
   "execution_count": 4,
   "metadata": {},
   "outputs": [
    {
     "name": "stdin",
     "output_type": "stream",
     "text": [
      "Escreva um numero:  1\n"
     ]
    },
    {
     "name": "stdout",
     "output_type": "stream",
     "text": [
      "1\n",
      "<class 'str'>\n"
     ]
    },
    {
     "name": "stdin",
     "output_type": "stream",
     "text": [
      "Escreva mais um numero:  2\n"
     ]
    },
    {
     "name": "stdout",
     "output_type": "stream",
     "text": [
      "2\n",
      "<class 'int'>\n"
     ]
    },
    {
     "name": "stdin",
     "output_type": "stream",
     "text": [
      "Escreva outro um numero:  3\n"
     ]
    },
    {
     "name": "stdout",
     "output_type": "stream",
     "text": [
      "3.0\n",
      "<class 'float'>\n"
     ]
    }
   ],
   "source": [
    "# Completar o exercício aqui\n",
    "#Peça um número ao utilizador e imprima o resultado juntamente com o tipo de dado capturado pela função input().\n",
    "numero = input(\"Escreva um numero: \")\n",
    "print(numero)\n",
    "print(type(numero))\n",
    "#Peça um número ao utilizador e converta o valor introduzido para o formato int. Em seguida, imprima o número inteiro e o seu tipo.\n",
    "numero2 = int(input(\"Escreva mais um numero: \"))\n",
    "print(numero2)\n",
    "print(type(numero2))\n",
    "#Peça um número ao utilizador e converta o valor introduzido para o formato float. Imprima o número decimal e o seu tipo.\n",
    "numero3 = float(input(\"Escreva outro um numero: \"))\n",
    "print(numero3)\n",
    "print(type(numero3))"
   ]
  },
  {
   "cell_type": "markdown",
   "metadata": {},
   "source": [
    "**2) Formatar os seguintes valores para mostrar o resultado indicado (deve usar o método format()):**\n",
    "\n",
    "* “Olá Mundo” → Alinhado à direita em 20 caracteres\n",
    "* “Olá Mundo” → Truncagem no quarto carácter (usar índice 3)\n",
    "* “Olá Mundo” → Alinhamento ao centro em 20 caracteres com truncagem no segundo carácter (usar índice 1)\n",
    "* 150 → Formatar com 5 números inteiros preenchidos com zeros\n",
    "* 7887 → Formatar com 7 números inteiros preenchidos com espaços\n",
    "* 20.02 → Formatar com 3 números inteiros e 3 números decimais\n"
   ]
  },
  {
   "cell_type": "code",
   "execution_count": 10,
   "metadata": {},
   "outputs": [
    {
     "name": "stdout",
     "output_type": "stream",
     "text": [
      "           Olá Mundo\n",
      "Olá\n",
      "         O          \n",
      "00150\n",
      "   7887\n",
      "020.020\n"
     ]
    }
   ],
   "source": [
    "# Completar o exercício aqui\n",
    "#“Olá Mundo” → Alinhado à direita em 20 caracteres\n",
    "print(\"{:>20}\".format(\"Olá Mundo\"))\n",
    "#“Olá Mundo” → Truncagem no quarto carácter (usar índice 3)\n",
    "print(\"{:.3}\".format(\"Olá Mundo\"))\n",
    "#“Olá Mundo” → Alinhamento ao centro em 20 caracteres com truncagem no segundo carácter (usar índice 1)\n",
    "print(\"{:^20.1}\".format(\"Olá Mundo\"))\n",
    "#150 → Formatar com 5 números inteiros preenchidos com zeros\n",
    "inteiro5 = 150\n",
    "print(\"{:05d}\".format(inteiro5))\n",
    "#7887 → Formatar com 7 números inteiros preenchidos com espaços\n",
    "numero7 = 7887\n",
    "print(\"{:7d}\".format(numero7))\n",
    "#20.02 → Formatar com 3 números inteiros e 3 números decimais\n",
    "numero20 = 20.02\n",
    "print(\"{:07.3f}\".format(20.02))"
   ]
  }
 ],
 "metadata": {
  "anaconda-cloud": {},
  "kernelspec": {
   "display_name": "Python 3 (ipykernel)",
   "language": "python",
   "name": "python3"
  },
  "language_info": {
   "codemirror_mode": {
    "name": "ipython",
    "version": 3
   },
   "file_extension": ".py",
   "mimetype": "text/x-python",
   "name": "python",
   "nbconvert_exporter": "python",
   "pygments_lexer": "ipython3",
   "version": "3.11.7"
  }
 },
 "nbformat": 4,
 "nbformat_minor": 4
}
